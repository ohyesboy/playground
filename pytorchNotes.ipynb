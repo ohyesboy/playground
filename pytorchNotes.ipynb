{
 "cells": [
  {
   "cell_type": "code",
   "execution_count": 1,
   "metadata": {},
   "outputs": [
    {
     "data": {
      "text/plain": [
       "(tensor([[ 0.7542,  0.2315],\n",
       "         [-0.7562,  0.1533],\n",
       "         [-0.8154,  0.1733],\n",
       "         [-0.3937,  0.6929],\n",
       "         [ 0.4422, -0.8967]]),\n",
       " tensor([1., 1., 1., 1., 0.]))"
      ]
     },
     "execution_count": 1,
     "metadata": {},
     "output_type": "execute_result"
    }
   ],
   "source": [
    "\n",
    "from sklearn.datasets import make_circles\n",
    "X, y = make_circles(1000,noise=0.03, random_state=42)\n",
    "\n",
    "import torch\n",
    "X = torch.from_numpy(X).type(torch.float)\n",
    "y = torch.from_numpy(y).type(torch.float)\n",
    "X[:5], y[:5]"
   ]
  },
  {
   "cell_type": "code",
   "execution_count": 2,
   "metadata": {},
   "outputs": [],
   "source": [
    "def accuracy_fn(y_true, y_pred):\n",
    "    correct = torch.eq(y_true, y_pred).sum().item()\n",
    "    acc = 100 * correct /  len(y_pred)\n",
    "    return acc"
   ]
  },
  {
   "cell_type": "code",
   "execution_count": 3,
   "metadata": {},
   "outputs": [
    {
     "name": "stdout",
     "output_type": "stream",
     "text": [
      "Downloading helper_functions.py\n"
     ]
    }
   ],
   "source": [
    "import requests\n",
    "from pathlib import Path \n",
    "\n",
    "# Download helper functions from Learn PyTorch repo (if not already downloaded)\n",
    "if Path(\"helper_functions.py\").is_file():\n",
    "  print(\"helper_functions.py already exists, skipping download\")\n",
    "else:\n",
    "  print(\"Downloading helper_functions.py\")\n",
    "  request = requests.get(\"https://raw.githubusercontent.com/mrdbourke/pytorch-deep-learning/main/helper_functions.py\")\n",
    "  with open(\"helper_functions.py\", \"wb\") as f:\n",
    "    f.write(request.content)\n",
    "\n",
    "from helper_functions import plot_predictions, plot_decision_boundary\n"
   ]
  },
  {
   "cell_type": "code",
   "execution_count": 4,
   "metadata": {},
   "outputs": [
    {
     "name": "stdout",
     "output_type": "stream",
     "text": [
      "Sequential(\n",
      "  (0): Linear(in_features=2, out_features=5, bias=True)\n",
      "  (1): ReLU()\n",
      "  (2): Linear(in_features=5, out_features=5, bias=True)\n",
      "  (3): ReLU()\n",
      "  (4): Linear(in_features=5, out_features=1, bias=True)\n",
      ")\n"
     ]
    }
   ],
   "source": [
    "from torch import nn\n",
    "model = nn.Sequential(\n",
    "    nn.Linear(2,5),\n",
    "    nn.ReLU(),\n",
    "    nn.Linear(5,5),\n",
    "    nn.ReLU(),\n",
    "    nn.Linear(5,1),\n",
    "\n",
    ")\n",
    "\n",
    "loss_fn = nn.BCEWithLogitsLoss()\n",
    "optimizer = torch.optim.SGD(model.parameters(), lr=0.1)\n",
    "print(model)"
   ]
  },
  {
   "cell_type": "code",
   "execution_count": 5,
   "metadata": {},
   "outputs": [],
   "source": [
    "device='cpu'\n",
    "\n",
    "from sklearn.model_selection import train_test_split\n",
    "X_train, X_test, y_train,y_test = train_test_split(X, y, test_size=0.2, random_state=42)"
   ]
  },
  {
   "cell_type": "code",
   "execution_count": 6,
   "metadata": {},
   "outputs": [
    {
     "name": "stdout",
     "output_type": "stream",
     "text": [
      "Epoch: 0 | Loss: 0.70278, Accuracy: 50.00% | Test Loss: 0.81326, Test Accuracy: 50.00%\n",
      "Epoch: 100 | Loss: 0.69209, Accuracy: 50.88% | Test Loss: 0.73879, Test Accuracy: 50.00%\n",
      "Epoch: 200 | Loss: 0.68992, Accuracy: 53.00% | Test Loss: 0.72848, Test Accuracy: 50.50%\n",
      "Epoch: 300 | Loss: 0.68756, Accuracy: 54.88% | Test Loss: 0.71968, Test Accuracy: 52.50%\n",
      "Epoch: 400 | Loss: 0.68459, Accuracy: 55.88% | Test Loss: 0.72158, Test Accuracy: 52.00%\n",
      "Epoch: 500 | Loss: 0.68071, Accuracy: 56.75% | Test Loss: 0.71399, Test Accuracy: 54.00%\n",
      "Epoch: 600 | Loss: 0.67549, Accuracy: 57.25% | Test Loss: 0.71709, Test Accuracy: 53.50%\n",
      "Epoch: 700 | Loss: 0.66833, Accuracy: 58.62% | Test Loss: 0.72139, Test Accuracy: 53.00%\n",
      "Epoch: 800 | Loss: 0.65798, Accuracy: 59.12% | Test Loss: 0.71689, Test Accuracy: 54.50%\n",
      "Epoch: 900 | Loss: 0.64127, Accuracy: 61.75% | Test Loss: 0.71189, Test Accuracy: 55.50%\n",
      "Epoch: 1000 | Loss: 0.60924, Accuracy: 72.00% | Test Loss: 0.64949, Test Accuracy: 67.50%\n",
      "Epoch: 1100 | Loss: 0.55002, Accuracy: 89.25% | Test Loss: 0.56650, Test Accuracy: 86.50%\n",
      "Epoch: 1200 | Loss: 0.46499, Accuracy: 95.12% | Test Loss: 0.53700, Test Accuracy: 93.00%\n",
      "Epoch: 1300 | Loss: 0.35879, Accuracy: 98.25% | Test Loss: 0.52371, Test Accuracy: 96.50%\n",
      "Epoch: 1400 | Loss: 0.25646, Accuracy: 99.38% | Test Loss: 0.52371, Test Accuracy: 96.50%\n"
     ]
    }
   ],
   "source": [
    "\n",
    "torch.manual_seed(42)\n",
    "epochs = 1500\n",
    "\n",
    "for epoch in range(epochs):\n",
    "    train_logits = model(X_train).squeeze()\n",
    "    train_pred = torch.round(torch.sigmoid(train_logits))\n",
    "    loss = loss_fn(train_logits, y_train)# BCEWithLogitsLoss calculates loss using logits\n",
    "    acc = accuracy_fn(y_train, train_pred)\n",
    "\n",
    "    optimizer.zero_grad()\n",
    "    loss.backward()\n",
    "    optimizer.step()\n",
    "\n",
    "    with torch.inference_mode():\n",
    "        test_logits = model(X_test).squeeze()\n",
    "        test_pred = torch.round(torch.sigmoid(test_logits))\n",
    "        test_loss = loss_fn(test_pred, y_test)\n",
    "        test_acc = accuracy_fn(y_test, test_pred)\n",
    "\n",
    "        if epoch %100 == 0:\n",
    "            print(f\"Epoch: {epoch} | Loss: {loss:.5f}, Accuracy: {acc:.2f}% | Test Loss: {test_loss:.5f}, Test Accuracy: {test_acc:.2f}%\") \n",
    "\n"
   ]
  }
 ],
 "metadata": {
  "kernelspec": {
   "display_name": "base",
   "language": "python",
   "name": "python3"
  },
  "language_info": {
   "codemirror_mode": {
    "name": "ipython",
    "version": 3
   },
   "file_extension": ".py",
   "mimetype": "text/x-python",
   "name": "python",
   "nbconvert_exporter": "python",
   "pygments_lexer": "ipython3",
   "version": "3.11.5"
  }
 },
 "nbformat": 4,
 "nbformat_minor": 2
}
