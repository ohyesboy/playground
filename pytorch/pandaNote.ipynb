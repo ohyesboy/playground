{
 "cells": [
  {
   "cell_type": "code",
   "execution_count": null,
   "metadata": {},
   "outputs": [],
   "source": [
    "a={\n",
    "    \"name\":\"Samsung\",\n",
    "    \"price\":100,\n",
    "}\n",
    "b={\n",
    "    \"name\":\"Huawei\",\n",
    "    \"price\":120,\n",
    "}\n",
    "c={\n",
    "    \"name\":\"iPhone\",\n",
    "    \"price\":125,\n",
    "}\n",
    "\n",
    "import pandas as pd\n",
    "compare_results = pd.DataFrame([a,b,c])\n",
    "compare_results"
   ]
  },
  {
   "cell_type": "code",
   "execution_count": null,
   "metadata": {},
   "outputs": [],
   "source": [
    "compare_results[\"year\"] = [2020,2021,2023]\n",
    "compare_results"
   ]
  },
  {
   "cell_type": "code",
   "execution_count": null,
   "metadata": {},
   "outputs": [],
   "source": [
    "import matplotlib.pyplot as plt\n",
    "compare_results.set_index(\"name\")[\"price\"].plot(kind=\"barh\")\n",
    "plt.xlabel(\"price $\")\n",
    "plt.ylabel(\"brand\")"
   ]
  },
  {
   "cell_type": "code",
   "execution_count": null,
   "metadata": {},
   "outputs": [],
   "source": [
    "compare_results.plot(kind=\"barh\")"
   ]
  },
  {
   "cell_type": "code",
   "execution_count": null,
   "metadata": {},
   "outputs": [],
   "source": [
    "compare_results.set_index(\"name\")[\"price\"].plot(kind=\"bar\")\n"
   ]
  },
  {
   "cell_type": "code",
   "execution_count": null,
   "metadata": {},
   "outputs": [],
   "source": [
    "compare_results.set_index(\"name\")[\"price\"].plot()"
   ]
  }
 ],
 "metadata": {
  "kernelspec": {
   "display_name": "base",
   "language": "python",
   "name": "python3"
  },
  "language_info": {
   "codemirror_mode": {
    "name": "ipython",
    "version": 3
   },
   "file_extension": ".py",
   "mimetype": "text/x-python",
   "name": "python",
   "nbconvert_exporter": "python",
   "pygments_lexer": "ipython3",
   "version": "3.11.5"
  }
 },
 "nbformat": 4,
 "nbformat_minor": 2
}
