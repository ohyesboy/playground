{
 "cells": [
  {
   "cell_type": "code",
   "execution_count": null,
   "metadata": {},
   "outputs": [],
   "source": [
    "import torch\n",
    "from torch import nn\n",
    "\n",
    "import torchvision\n",
    "from torchvision import datasets\n",
    "from torchvision import transforms\n",
    "from torchvision.transforms import ToTensor\n",
    "\n",
    "import matplotlib.pyplot as plt\n"
   ]
  },
  {
   "cell_type": "code",
   "execution_count": null,
   "metadata": {},
   "outputs": [],
   "source": [
    "# setup train data\n",
    "\n",
    "train_data = datasets.FashionMNIST(\n",
    "    root=\"data\",\n",
    "    train=True,\n",
    "    download=True,\n",
    "    transform=torchvision.transforms.ToTensor(),\n",
    "    target_transform=None\n",
    ")\n",
    "\n",
    "test_data = datasets.FashionMNIST(\n",
    "    root=\"data\",\n",
    "    train=False,\n",
    "    download=True,\n",
    "    transform=ToTensor(),\n",
    "    target_transform=None\n",
    ")\n"
   ]
  },
  {
   "cell_type": "code",
   "execution_count": null,
   "metadata": {},
   "outputs": [],
   "source": [
    "len(train_data), len(test_data)"
   ]
  },
  {
   "cell_type": "code",
   "execution_count": null,
   "metadata": {},
   "outputs": [],
   "source": [
    "image, label = train_data[0]\n",
    "image, label, image.shape \n",
    "#1， 28， 28 ->28x28pixel grayscale image"
   ]
  },
  {
   "cell_type": "code",
   "execution_count": null,
   "metadata": {},
   "outputs": [],
   "source": [
    "train_data.classes, train_data.class_to_idx"
   ]
  },
  {
   "cell_type": "code",
   "execution_count": null,
   "metadata": {},
   "outputs": [],
   "source": [
    "import matplotlib.pyplot as plt\n",
    "\n",
    "plt.imshow(image.squeeze())"
   ]
  },
  {
   "cell_type": "code",
   "execution_count": null,
   "metadata": {},
   "outputs": [],
   "source": [
    "plt.imshow(image.squeeze(), cmap='gray')\n",
    "plt.title(train_data.classes[label])"
   ]
  },
  {
   "cell_type": "code",
   "execution_count": null,
   "metadata": {},
   "outputs": [],
   "source": [
    "torch.manual_seed(42)\n",
    "fig = plt.figure(figsize=(9,9))\n",
    "rows,cols = 4,4\n",
    "for i in range(1, rows*cols+1):\n",
    "    rnd = torch.randint(0, len(train_data),size=[1]).item()\n",
    "    img, label = train_data[rnd]\n",
    "    fig.add_subplot(rows, cols, i)\n",
    "    plt.imshow(img.squeeze(), cmap='gray')\n",
    "    plt.title(train_data.classes[label])\n",
    "    plt.axis(False)\n"
   ]
  },
  {
   "cell_type": "code",
   "execution_count": null,
   "metadata": {},
   "outputs": [],
   "source": [
    "# Use batches\n",
    "\n",
    "from torch.utils.data import DataLoader\n",
    "\n",
    "BATCH_SIZE = 32\n",
    "train_dataloader = DataLoader(train_data, BATCH_SIZE, shuffle=True)\n",
    "test_dataloader = DataLoader(test_data, BATCH_SIZE, shuffle=True)\n",
    "\n",
    "# 60000/32 = 1875\n",
    "len(train_dataloader)"
   ]
  },
  {
   "cell_type": "code",
   "execution_count": null,
   "metadata": {},
   "outputs": [],
   "source": [
    "\n",
    "train_batch, train_label_batch = next(iter(train_dataloader))\n",
    "train_batch.shape,train_label_batch"
   ]
  },
  {
   "cell_type": "code",
   "execution_count": null,
   "metadata": {},
   "outputs": [],
   "source": [
    "# get first item of this batch\n",
    "img, label = train_batch[0],train_label_batch[0]\n",
    "plt.imshow(img.squeeze(),cmap='gray')\n",
    "plt.title(train_data.classes[label])"
   ]
  },
  {
   "cell_type": "code",
   "execution_count": null,
   "metadata": {},
   "outputs": [],
   "source": [
    "flattern = nn.Flatten()\n",
    "\n",
    "output = flattern(img)\n",
    "\n",
    "img.shape, output.shape"
   ]
  },
  {
   "cell_type": "code",
   "execution_count": null,
   "metadata": {},
   "outputs": [],
   "source": [
    "HIDDEN = 10\n",
    "device ='cpu'\n",
    "\n",
    "model = nn.Sequential(\n",
    "    nn.Flatten(),\n",
    "    nn.Linear(in_features=28*28, out_features=HIDDEN),\n",
    "    nn.Linear(in_features=HIDDEN,out_features=10),\n",
    ").to(device)\n",
    "\n",
    "torch.manual_seed(42)\n",
    "\n",
    "model(img)\n"
   ]
  },
  {
   "cell_type": "code",
   "execution_count": null,
   "metadata": {},
   "outputs": [],
   "source": [
    "import requests\n",
    "from pathlib import Path \n",
    "\n",
    "# Download helper functions from Learn PyTorch repo (if not already downloaded)\n",
    "if Path(\"helper_functions.py\").is_file():\n",
    "  print(\"helper_functions.py already exists, skipping download\")\n",
    "else:\n",
    "  print(\"Downloading helper_functions.py\")\n",
    "  request = requests.get(\"https://raw.githubusercontent.com/mrdbourke/pytorch-deep-learning/main/helper_functions.py\")\n",
    "  with open(\"helper_functions.py\", \"wb\") as f:\n",
    "    f.write(request.content)"
   ]
  },
  {
   "cell_type": "code",
   "execution_count": null,
   "metadata": {},
   "outputs": [],
   "source": [
    "from helper_functions import accuracy_fn\n",
    "\n",
    "#for multi-class issue, use nn.CrossEntropyLoss()\n",
    "\n",
    "loss_fn = nn.CrossEntropyLoss()\n",
    "optimizer = torch.optim.SGD(model.parameters(), lr = 0.1)"
   ]
  },
  {
   "cell_type": "code",
   "execution_count": null,
   "metadata": {},
   "outputs": [],
   "source": [
    "from tqdm.auto import tqdm\n",
    "\n",
    "torch.manual_seed(42)\n",
    "\n",
    "epochs = 3\n",
    "\n",
    "for epoch in tqdm(range(epochs)):\n",
    "    print (f\"E={epoch}\")\n",
    "    train_loss = 0\n",
    "    for batch, (X, y ) in enumerate(train_dataloader):\n",
    "        model.train()\n",
    "\n",
    "        y_pred = model(X)\n",
    "        optimizer.zero_grad()\n",
    "        loss = loss_fn(y_pred, y)\n",
    "        train_loss += loss\n",
    "        loss.backward()\n",
    "        optimizer.step()\n",
    "\n",
    "        if(batch % 400 ==0):\n",
    "            print(f\"{batch * BATCH_SIZE} / {len(train_dataloader.dataset)}\")  #len=60000\n",
    "    train_loss/=len(train_dataloader) # len=1875\n",
    "    print(f\"train_loss:{train_loss}\")\n",
    "\n"
   ]
  },
  {
   "cell_type": "code",
   "execution_count": null,
   "metadata": {},
   "outputs": [],
   "source": [
    "# # Import tqdm for progress bar\n",
    "# from tqdm.auto import tqdm\n",
    "\n",
    "# # Set the seed and start the timer\n",
    "# torch.manual_seed(42)\n",
    "\n",
    "\n",
    "# # Set the number of epochs (we'll keep this small for faster training times)\n",
    "# epochs = 3\n",
    "\n",
    "# # Create training and testing loop\n",
    "# for epoch in tqdm(range(epochs)):\n",
    "#     print(f\"Epoch: {epoch}\\n-------\")\n",
    "#     ### Training\n",
    "#     train_loss = 0\n",
    "#     # Add a loop to loop through training batches\n",
    "#     for batch, (X, y) in enumerate(train_dataloader):\n",
    "#         model.train() \n",
    "#         # 1. Forward pass\n",
    "#         y_pred = model(X)\n",
    "\n",
    "#         # 2. Calculate loss (per batch)\n",
    "#         loss = loss_fn(y_pred, y)\n",
    "#         train_loss += loss # accumulatively add up the loss per epoch \n",
    "\n",
    "#         # 3. Optimizer zero grad\n",
    "#         optimizer.zero_grad()\n",
    "\n",
    "#         # 4. Loss backward\n",
    "#         loss.backward()\n",
    "\n",
    "#         # 5. Optimizer step\n",
    "#         optimizer.step()\n",
    "\n",
    "#         # Print out how many samples have been seen\n",
    "#         if batch % 400 == 0:\n",
    "#             print(f\"Looked at {batch * len(X)}/{len(train_dataloader.dataset)} samples\")\n",
    "\n",
    "#     # Divide total train loss by length of train dataloader (average loss per batch per epoch)\n",
    "#     train_loss /= len(train_dataloader)\n",
    "    \n",
    "#     ### Testing\n",
    "#     # Setup variables for accumulatively adding up loss and accuracy \n",
    "#     test_loss, test_acc = 0, 0 \n",
    "#     model.eval()\n",
    "#     with torch.inference_mode():\n",
    "#         for X, y in test_dataloader:\n",
    "#             # 1. Forward pass\n",
    "#             test_pred = model(X)\n",
    "           \n",
    "#             # 2. Calculate loss (accumatively)\n",
    "#             test_loss += loss_fn(test_pred, y) # accumulatively add up the loss per epoch\n",
    "\n",
    "#             # 3. Calculate accuracy (preds need to be same as y_true)\n",
    "#             test_acc += accuracy_fn(y_true=y, y_pred=test_pred.argmax(dim=1))\n",
    "        \n",
    "#         # Calculations on test metrics need to happen inside torch.inference_mode()\n",
    "#         # Divide total test loss by length of test dataloader (per batch)\n",
    "#         test_loss /= len(test_dataloader)\n",
    "\n",
    "#         # Divide total accuracy by length of test dataloader (per batch)\n",
    "#         test_acc /= len(test_dataloader)\n",
    "\n",
    "#     ## Print out what's happening\n",
    "#     print(f\"\\nTrain loss: {train_loss:.5f} | Test loss: {test_loss:.5f}, Test acc: {test_acc:.2f}%\\n\")\n",
    "\n"
   ]
  },
  {
   "cell_type": "code",
   "execution_count": null,
   "metadata": {},
   "outputs": [],
   "source": [
    "HIDDEN = 10\n",
    "device ='cpu'\n",
    "\n",
    "model2 = nn.Sequential(\n",
    "    nn.Flatten(),\n",
    "    nn.Linear(in_features=28*28, out_features=HIDDEN),\n",
    "    nn.Linear(in_features=HIDDEN,out_features=10),\n",
    ").to(device)\n",
    "\n",
    "loss_fn = nn.CrossEntropyLoss()\n",
    "optimizer = torch.optim.SGD(model2.parameters(), lr = 0.1)\n",
    "\n",
    "\n",
    "def train_step(model: torch.nn.Module,\n",
    "               data_loader,\n",
    "               loss_fn: torch.nn.Module,\n",
    "               optimizer:torch.optim.Optimizer,\n",
    "               ):\n",
    "    train_loss = 0\n",
    "    for batch, (X, y ) in enumerate(data_loader):\n",
    "        model.train()\n",
    "\n",
    "        y_pred = model(X)\n",
    "        optimizer.zero_grad()\n",
    "        loss = loss_fn(y_pred, y)\n",
    "        train_loss += loss\n",
    "        loss.backward()\n",
    "        optimizer.step()\n",
    "\n",
    "        if(batch % 400 ==0):\n",
    "            print(f\"{batch * BATCH_SIZE} / {len(train_dataloader.dataset)}\")  #len=60000\n",
    "    train_loss/=len(train_dataloader) # len=1875\n",
    "    print(f\"train_loss:{train_loss}\")\n",
    "\n",
    "\n",
    "\n"
   ]
  },
  {
   "cell_type": "code",
   "execution_count": null,
   "metadata": {},
   "outputs": [],
   "source": [
    "torch.manual_seed(42)\n",
    "\n",
    "epochs = 3\n",
    "\n",
    "for epoch in range(epochs):\n",
    "    train_step(model2, train_dataloader, loss_fn, optimizer)"
   ]
  }
 ],
 "metadata": {
  "kernelspec": {
   "display_name": "base",
   "language": "python",
   "name": "python3"
  },
  "language_info": {
   "codemirror_mode": {
    "name": "ipython",
    "version": 3
   },
   "file_extension": ".py",
   "mimetype": "text/x-python",
   "name": "python",
   "nbconvert_exporter": "python",
   "pygments_lexer": "ipython3",
   "version": "3.11.5"
  }
 },
 "nbformat": 4,
 "nbformat_minor": 2
}
