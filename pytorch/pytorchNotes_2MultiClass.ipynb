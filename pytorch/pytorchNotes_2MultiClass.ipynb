{
 "cells": [
  {
   "cell_type": "code",
   "execution_count": null,
   "metadata": {},
   "outputs": [],
   "source": [
    "import torch\n",
    "from sklearn.datasets import make_blobs\n",
    "from sklearn.model_selection import train_test_split\n",
    "import matplotlib.pyplot as plt\n",
    "\n",
    "NUM_CLASSES=4\n",
    "NUM_FEATURES = 2\n",
    "X_blob, y_blob = make_blobs(1000,\n",
    "                            n_features=NUM_FEATURES,\n",
    "                            centers=NUM_CLASSES,\n",
    "                            cluster_std=1.5,\n",
    "                            random_state=42)\n",
    "X_blob = torch.from_numpy(X_blob).float()\n",
    "y_blob = torch.from_numpy(y_blob).long()\n",
    "\n",
    "X_blob_train,X_blob_test,y_blob_train,y_blob_test = train_test_split(X_blob, y_blob, test_size=0.8, random_state=42)\n",
    "\n",
    "plt.figure(figsize=(10, 7))\n",
    "plt.scatter(X_blob[:,0],X_blob[:,1], c=y_blob, cmap='RdYlBu')"
   ]
  },
  {
   "cell_type": "code",
   "execution_count": null,
   "metadata": {},
   "outputs": [],
   "source": [
    "from torch import nn\n",
    "model_4 = nn.Sequential(\n",
    "    nn.Linear(2,8),\n",
    "    #nn.ReLU(),  #WITHOUT ReLU ,it still works! The boundary lines are straighter\n",
    "    nn.Linear(8,8),\n",
    "    #nn.ReLU(),\n",
    "    nn.Linear(8,4),\n",
    "    \n",
    ")\n",
    "\n",
    "loss_fn = nn.CrossEntropyLoss()\n",
    "optimizer = torch.optim.SGD(model_4.parameters(), lr=0.1)\n",
    "\n",
    "model_4 "
   ]
  },
  {
   "cell_type": "code",
   "execution_count": null,
   "metadata": {},
   "outputs": [],
   "source": [
    "torch.manual_seed(42)\n",
    "\n",
    "for epoch in range(100):\n",
    "    model_4.train()\n",
    "    \n",
    "    logits = model_4(X_blob_train)\n",
    "    preds = torch.softmax(logits, dim=1).argmax(dim=1)\n",
    "    loss = loss_fn(logits, y_blob_train)\n",
    "\n",
    "    optimizer.zero_grad();\n",
    "    loss.backward()\n",
    "    optimizer.step();\n",
    "    \n",
    "    if epoch % 10 == 0:\n",
    "        print(f\"{epoch}: Loss={loss}\")"
   ]
  },
  {
   "cell_type": "code",
   "execution_count": null,
   "metadata": {},
   "outputs": [],
   "source": [
    "from helper_functions import plot_predictions, plot_decision_boundary\n",
    "\n",
    "plot_decision_boundary(model_4, X_blob_train, y_blob_train)\n"
   ]
  },
  {
   "cell_type": "code",
   "execution_count": null,
   "metadata": {},
   "outputs": [],
   "source": [
    "try:\n",
    "    from torchmetrics import Accuracy\n",
    "except:\n",
    "    !pip install torchmetrics==0.9.3 # this is the version we're using in this notebook (later versions exist here: https://torchmetrics.readthedocs.io/en/stable/generated/CHANGELOG.html#changelog)\n",
    "    from torchmetrics import Accuracy\n",
    "    \n",
    "torchmetrics_accuracy = Accuracy(task='multiclass', num_classes=4)\n",
    "\n",
    "# Calculate accuracy\n",
    "torchmetrics_accuracy(preds, y_blob_train)"
   ]
  }
 ],
 "metadata": {
  "kernelspec": {
   "display_name": "base",
   "language": "python",
   "name": "python3"
  },
  "language_info": {
   "codemirror_mode": {
    "name": "ipython",
    "version": 3
   },
   "file_extension": ".py",
   "mimetype": "text/x-python",
   "name": "python",
   "nbconvert_exporter": "python",
   "pygments_lexer": "ipython3",
   "version": "3.11.5"
  }
 },
 "nbformat": 4,
 "nbformat_minor": 2
}
